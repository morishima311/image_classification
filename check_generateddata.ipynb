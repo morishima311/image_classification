{
 "cells": [
  {
   "cell_type": "code",
   "execution_count": 1,
   "metadata": {},
   "outputs": [],
   "source": [
    "from PIL import Image\n",
    "import os, glob\n",
    "import numpy as np\n",
    "from sklearn import model_selection\n",
    "\n",
    "classes = [\"monkey\", \"boar\", \"crow\"]\n",
    "num_classes = len(classes)\n",
    "image_size = 50\n",
    "\n",
    "X = []\n",
    "Y = []\n",
    "for index, classlabel in enumerate(classes):\n",
    "    photos_dir = \"./\" + classlabel\n",
    "    files = glob.glob(photos_dir + \"/*.jpg\")\n",
    "    for i, file in enumerate(files):\n",
    "        if i >= 150: break\n",
    "        image = Image.open(file)\n",
    "        image = image.convert(\"RGB\")\n",
    "        image = image.resize((image_size, image_size))\n",
    "        data = np.asarray(image)\n",
    "        X.append(data)\n",
    "        Y.append(index)\n",
    "\n",
    "X = np.array(X)\n",
    "Y = np.array(Y)\n",
    "\n",
    "X_train, X_test, y_train, y_test = model_selection.train_test_split(X,Y)\n",
    "xy = (X_train, X_test, y_train, y_test)\n",
    "np.save(\"./animal.npy\", xy)\n"
   ]
  },
  {
   "cell_type": "code",
   "execution_count": 2,
   "metadata": {},
   "outputs": [
    {
     "data": {
      "text/plain": [
       "337"
      ]
     },
     "execution_count": 2,
     "metadata": {},
     "output_type": "execute_result"
    }
   ],
   "source": [
    "len(X_train)"
   ]
  },
  {
   "cell_type": "code",
   "execution_count": 3,
   "metadata": {},
   "outputs": [
    {
     "data": {
      "text/plain": [
       "113"
      ]
     },
     "execution_count": 3,
     "metadata": {},
     "output_type": "execute_result"
    }
   ],
   "source": [
    "len(X_test)"
   ]
  },
  {
   "cell_type": "code",
   "execution_count": 4,
   "metadata": {},
   "outputs": [
    {
     "data": {
      "text/plain": [
       "array([[[ 48,  52,  51],\n",
       "        [ 34,  37,  44],\n",
       "        [127, 134,  92],\n",
       "        ...,\n",
       "        [167, 165, 124],\n",
       "        [177, 189, 113],\n",
       "        [176, 195,  90]],\n",
       "\n",
       "       [[ 28,  36,  23],\n",
       "        [ 68,  77,  56],\n",
       "        [150, 163,  93],\n",
       "        ...,\n",
       "        [175, 182, 138],\n",
       "        [179, 197, 135],\n",
       "        [183, 206, 118]],\n",
       "\n",
       "       [[ 24,  33,  16],\n",
       "        [ 78,  89,  72],\n",
       "        [173, 189, 118],\n",
       "        ...,\n",
       "        [181, 190, 143],\n",
       "        [176, 191, 132],\n",
       "        [189, 207, 123]],\n",
       "\n",
       "       ...,\n",
       "\n",
       "       [[171, 177,  89],\n",
       "        [141, 138, 105],\n",
       "        [131, 129,  91],\n",
       "        ...,\n",
       "        [ 71,  58,  39],\n",
       "        [103,  98,  78],\n",
       "        [ 51,  55,  28]],\n",
       "\n",
       "       [[185, 192,  97],\n",
       "        [133, 142,  87],\n",
       "        [132, 140,  99],\n",
       "        ...,\n",
       "        [ 28,  48,  39],\n",
       "        [ 30,  34,   9],\n",
       "        [ 71,  78,  37]],\n",
       "\n",
       "       [[188, 190, 115],\n",
       "        [143, 158,  41],\n",
       "        [149, 170,  31],\n",
       "        ...,\n",
       "        [100, 119, 117],\n",
       "        [237, 228, 231],\n",
       "        [150, 160,  45]]], dtype=uint8)"
      ]
     },
     "execution_count": 4,
     "metadata": {},
     "output_type": "execute_result"
    }
   ],
   "source": [
    "X_train[100]"
   ]
  },
  {
   "cell_type": "code",
   "execution_count": 5,
   "metadata": {},
   "outputs": [
    {
     "data": {
      "text/plain": [
       "2"
      ]
     },
     "execution_count": 5,
     "metadata": {},
     "output_type": "execute_result"
    }
   ],
   "source": [
    "y_train[100]"
   ]
  },
  {
   "cell_type": "code",
   "execution_count": null,
   "metadata": {},
   "outputs": [],
   "source": []
  }
 ],
 "metadata": {
  "kernelspec": {
   "display_name": "Python 3",
   "language": "python",
   "name": "python3"
  },
  "language_info": {
   "codemirror_mode": {
    "name": "ipython",
    "version": 3
   },
   "file_extension": ".py",
   "mimetype": "text/x-python",
   "name": "python",
   "nbconvert_exporter": "python",
   "pygments_lexer": "ipython3",
   "version": "3.6.6"
  }
 },
 "nbformat": 4,
 "nbformat_minor": 2
}
