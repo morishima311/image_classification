{
 "cells": [
  {
   "cell_type": "code",
   "execution_count": 2,
   "metadata": {},
   "outputs": [
    {
     "name": "stderr",
     "output_type": "stream",
     "text": [
      "C:\\Users\\Ryo\\Anaconda3\\envs\\tf140\\lib\\site-packages\\sklearn\\cross_validation.py:41: DeprecationWarning: This module was deprecated in version 0.18 in favor of the model_selection module into which all the refactored classes and functions are moved. Also note that the interface of the new CV iterators are different from that of this module. This module will be removed in 0.20.\n",
      "  \"This module will be removed in 0.20.\", DeprecationWarning)\n"
     ]
    }
   ],
   "source": [
    "from PIL import Image\n",
    "import os, glob\n",
    "import numpy as np\n",
    "from sklearn import cross_validation\n",
    "\n",
    "classes = [\"monkey\", \"boar\", \"crow\"]\n",
    "num_classes = len(classes)\n",
    "image_size = 50\n",
    "\n",
    "X = []\n",
    "Y = []\n",
    "for index, classlabel in enumerate(classes):\n",
    "    photos_dir = \"./\" + classlabel\n",
    "    files = glob.glob(photos_dir + \"/*.jpg\")\n",
    "    for i, file in enumerate(files):\n",
    "        if i >= 150: break\n",
    "        image = Image.open(file)\n",
    "        image = image.convert(\"RGB\")\n",
    "        image = image.resize((image_size, image_size))\n",
    "        data = np.asarray(image)\n",
    "        X.append(data)\n",
    "        Y.append(index)\n",
    "\n",
    "X = np.array(X)\n",
    "Y = np.array(Y)\n",
    "\n"
   ]
  },
  {
   "cell_type": "code",
   "execution_count": 3,
   "metadata": {},
   "outputs": [
    {
     "data": {
      "text/plain": [
       "array([[[ 79, 111,  96],\n",
       "        [ 98, 128, 118],\n",
       "        [ 90, 117, 110],\n",
       "        ...,\n",
       "        [201, 182, 184],\n",
       "        [204, 189, 184],\n",
       "        [209, 194, 191]],\n",
       "\n",
       "       [[ 87, 117, 105],\n",
       "        [110, 137, 128],\n",
       "        [111, 138, 129],\n",
       "        ...,\n",
       "        [222, 206, 207],\n",
       "        [226, 212, 211],\n",
       "        [226, 211, 214]],\n",
       "\n",
       "       [[ 79, 109,  99],\n",
       "        [100, 128, 116],\n",
       "        [104, 132, 120],\n",
       "        ...,\n",
       "        [222, 208, 208],\n",
       "        [222, 207, 210],\n",
       "        [218, 203, 208]],\n",
       "\n",
       "       ...,\n",
       "\n",
       "       [[238, 233, 229],\n",
       "        [243, 239, 238],\n",
       "        [238, 234, 235],\n",
       "        ...,\n",
       "        [217, 197, 196],\n",
       "        [219, 218, 216],\n",
       "        [221, 211, 209]],\n",
       "\n",
       "       [[217, 213, 212],\n",
       "        [209, 197, 199],\n",
       "        [202, 182, 183],\n",
       "        ...,\n",
       "        [231, 223, 220],\n",
       "        [227, 215, 215],\n",
       "        [235, 227, 225]],\n",
       "\n",
       "       [[231, 221, 220],\n",
       "        [246, 241, 238],\n",
       "        [226, 222, 213],\n",
       "        ...,\n",
       "        [210, 198, 198],\n",
       "        [216, 202, 199],\n",
       "        [215, 204, 202]]], dtype=uint8)"
      ]
     },
     "execution_count": 3,
     "metadata": {},
     "output_type": "execute_result"
    }
   ],
   "source": [
    "X[0]"
   ]
  },
  {
   "cell_type": "code",
   "execution_count": 5,
   "metadata": {},
   "outputs": [
    {
     "data": {
      "text/plain": [
       "450"
      ]
     },
     "execution_count": 5,
     "metadata": {},
     "output_type": "execute_result"
    }
   ],
   "source": [
    "len(X)"
   ]
  },
  {
   "cell_type": "code",
   "execution_count": 6,
   "metadata": {},
   "outputs": [
    {
     "data": {
      "text/plain": [
       "0"
      ]
     },
     "execution_count": 6,
     "metadata": {},
     "output_type": "execute_result"
    }
   ],
   "source": [
    "Y[100]"
   ]
  },
  {
   "cell_type": "code",
   "execution_count": 7,
   "metadata": {},
   "outputs": [
    {
     "data": {
      "text/plain": [
       "1"
      ]
     },
     "execution_count": 7,
     "metadata": {},
     "output_type": "execute_result"
    }
   ],
   "source": [
    "Y[150]"
   ]
  },
  {
   "cell_type": "code",
   "execution_count": 8,
   "metadata": {},
   "outputs": [
    {
     "data": {
      "text/plain": [
       "2"
      ]
     },
     "execution_count": 8,
     "metadata": {},
     "output_type": "execute_result"
    }
   ],
   "source": [
    "Y[300]"
   ]
  },
  {
   "cell_type": "code",
   "execution_count": null,
   "metadata": {},
   "outputs": [],
   "source": []
  }
 ],
 "metadata": {
  "kernelspec": {
   "display_name": "Python 3",
   "language": "python",
   "name": "python3"
  },
  "language_info": {
   "codemirror_mode": {
    "name": "ipython",
    "version": 3
   },
   "file_extension": ".py",
   "mimetype": "text/x-python",
   "name": "python",
   "nbconvert_exporter": "python",
   "pygments_lexer": "ipython3",
   "version": "3.6.6"
  }
 },
 "nbformat": 4,
 "nbformat_minor": 2
}
